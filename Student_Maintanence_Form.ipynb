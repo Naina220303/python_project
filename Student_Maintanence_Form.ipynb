{
  "nbformat": 4,
  "nbformat_minor": 0,
  "metadata": {
    "colab": {
      "provenance": []
    },
    "kernelspec": {
      "name": "python3",
      "display_name": "Python 3"
    },
    "language_info": {
      "name": "python"
    }
  },
  "cells": [
    {
      "cell_type": "code",
      "execution_count": null,
      "metadata": {
        "id": "R9_FaTmLRRN4"
      },
      "outputs": [],
      "source": [
        "# STUDENT MAINTANENCE FORM"
      ]
    },
    {
      "cell_type": "code",
      "source": [
        "Name=[]\n",
        "Rollno=[]\n",
        "Marks1=[]\n",
        "Marks2=[]\n",
        "\n",
        "def accept():\n",
        " n=input(\"enter name \")\n",
        " r=int(input(\"enter rollno \"))\n",
        " m1=int(input(\"enter marks1 \"))\n",
        " m2=int(input(\"enter marks2 \"))\n",
        " Name.append(n)\n",
        " Rollno.append(r)\n",
        " Marks1.append(m1)\n",
        " Marks2.append(m2)\n",
        "\n",
        "\n"
      ],
      "metadata": {
        "id": "pX7PohnnuAdZ"
      },
      "execution_count": 12,
      "outputs": []
    },
    {
      "cell_type": "code",
      "source": [
        "accept()"
      ],
      "metadata": {
        "colab": {
          "base_uri": "https://localhost:8080/"
        },
        "id": "q4wFh4btvfjW",
        "outputId": "7e07c7df-f099-45fc-ec2c-78ebe208b6e6"
      },
      "execution_count": 14,
      "outputs": [
        {
          "name": "stdout",
          "output_type": "stream",
          "text": [
            "enter name jiya\n",
            "enter rollno 4\n",
            "enter marks1 45\n",
            "enter marks2 54\n"
          ]
        }
      ]
    },
    {
      "cell_type": "code",
      "source": [
        "def display():\n",
        " i=0\n",
        " for i in range(len(Name)):\n",
        "  print(Name[i],Rollno[i],Marks1[i],Marks2[i])\n",
        "\n"
      ],
      "metadata": {
        "id": "2oePUUCbvprQ"
      },
      "execution_count": 20,
      "outputs": []
    },
    {
      "cell_type": "code",
      "source": [
        "display()"
      ],
      "metadata": {
        "colab": {
          "base_uri": "https://localhost:8080/"
        },
        "id": "sJsxZ-FiwLV7",
        "outputId": "6bce876e-e3f4-4bbc-c446-d7bbc96a4bb7"
      },
      "execution_count": 21,
      "outputs": [
        {
          "output_type": "stream",
          "name": "stdout",
          "text": [
            "hiya 12 34 43\n",
            "jiya 4 45 54\n"
          ]
        }
      ]
    },
    {
      "cell_type": "code",
      "source": [
        "def search():\n",
        "  flag=0\n",
        "  s=int(input(\"enter the rollno you want to search\"))\n",
        "  for i in range(len(Name)):\n",
        "    if s==Rollno[i]:\n",
        "     print(Name[i],Rollno[i],Marks1[i],Marks2[i])\n",
        "     flag=1\n",
        "  if flag==0:\n",
        "    print(\"roll-no not found\")\n"
      ],
      "metadata": {
        "id": "EE2lif5WxzWd"
      },
      "execution_count": 26,
      "outputs": []
    },
    {
      "cell_type": "code",
      "source": [
        "search()"
      ],
      "metadata": {
        "colab": {
          "base_uri": "https://localhost:8080/"
        },
        "id": "4YdRkRewy8bd",
        "outputId": "4e16e32a-6fc4-4e05-cfce-91dcbb2a8359"
      },
      "execution_count": 27,
      "outputs": [
        {
          "output_type": "stream",
          "name": "stdout",
          "text": [
            "enter the rollno you want to search12\n",
            "hiya 12 34 43\n"
          ]
        }
      ]
    },
    {
      "cell_type": "code",
      "source": [
        "def delete():\n",
        "  flag=0\n",
        "  d=int(input(\"enter the rollno you want to delete\"))\n",
        "  for i in range(len(Name)):\n",
        "    if d==Rollno[i]:\n",
        "     Name.pop(i)\n",
        "     Rollno.pop(i)\n",
        "     Marks1.pop(i)\n",
        "     Marks2.pop(i)\n",
        "     flag=1\n",
        "  if flag==0:\n",
        "    print(\"roll-no not found\")\n"
      ],
      "metadata": {
        "id": "2kOs0N0WzEjn"
      },
      "execution_count": 30,
      "outputs": []
    },
    {
      "cell_type": "code",
      "source": [
        "delete()"
      ],
      "metadata": {
        "colab": {
          "base_uri": "https://localhost:8080/"
        },
        "id": "qnJurkJt0DNQ",
        "outputId": "a191a9d8-cf10-4c8f-e84a-39b348e0ad49"
      },
      "execution_count": 31,
      "outputs": [
        {
          "name": "stdout",
          "output_type": "stream",
          "text": [
            "enter the rollno you want to delete4\n"
          ]
        }
      ]
    },
    {
      "cell_type": "code",
      "source": [
        "display()\n"
      ],
      "metadata": {
        "colab": {
          "base_uri": "https://localhost:8080/"
        },
        "id": "Zn14sENj0P7r",
        "outputId": "f047e419-9db2-4155-cc23-35ed7e527f6a"
      },
      "execution_count": 32,
      "outputs": [
        {
          "output_type": "stream",
          "name": "stdout",
          "text": [
            "hiya 12 34 43\n"
          ]
        }
      ]
    }
  ]
}