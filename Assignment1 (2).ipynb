{
  "nbformat": 4,
  "nbformat_minor": 0,
  "metadata": {
    "colab": {
      "provenance": []
    },
    "kernelspec": {
      "name": "python3",
      "display_name": "Python 3"
    },
    "language_info": {
      "name": "python"
    }
  },
  "cells": [
    {
      "cell_type": "code",
      "execution_count": null,
      "metadata": {
        "id": "OHcPeZtyaNQ0"
      },
      "outputs": [],
      "source": [
        "#Questions\n",
        "s=\"this is my First Python programming class and i am Learning python string And its function\""
      ]
    },
    {
      "cell_type": "code",
      "source": [
        "#Qustion 1\n",
        "s[1:200:3]"
      ],
      "metadata": {
        "colab": {
          "base_uri": "https://localhost:8080/",
          "height": 36
        },
        "id": "YVjq0hCFajme",
        "outputId": "cc8e229c-d9be-4703-c41c-fd7ceb1ad496"
      },
      "execution_count": null,
      "outputs": [
        {
          "output_type": "execute_result",
          "data": {
            "text/plain": [
              "'h   r tnrrmglsnimengyosi dtfco'"
            ],
            "application/vnd.google.colaboratory.intrinsic+json": {
              "type": "string"
            }
          },
          "metadata": {},
          "execution_count": 32
        }
      ]
    },
    {
      "cell_type": "code",
      "source": [
        "len(s)"
      ],
      "metadata": {
        "colab": {
          "base_uri": "https://localhost:8080/"
        },
        "id": "5aqVfaw-a8VZ",
        "outputId": "fc7a3285-e914-4c9e-8e31-ba465ae5cc06"
      },
      "execution_count": null,
      "outputs": [
        {
          "output_type": "execute_result",
          "data": {
            "text/plain": [
              "90"
            ]
          },
          "metadata": {},
          "execution_count": 3
        }
      ]
    },
    {
      "cell_type": "code",
      "source": [
        "#Question 2\n",
        "s[-1:-91:-1]"
      ],
      "metadata": {
        "colab": {
          "base_uri": "https://localhost:8080/",
          "height": 36
        },
        "id": "Xz6QW9zbbPzT",
        "outputId": "63612a28-c377-42e4-f4c8-df4185ecc00d"
      },
      "execution_count": null,
      "outputs": [
        {
          "output_type": "execute_result",
          "data": {
            "text/plain": [
              "'noitcnuf sti dnA gnirts nohtyp gninraeL ma i dna ssalc gnimmargorp nohtyP tsriF ym si siht'"
            ],
            "application/vnd.google.colaboratory.intrinsic+json": {
              "type": "string"
            }
          },
          "metadata": {},
          "execution_count": 31
        }
      ]
    },
    {
      "cell_type": "code",
      "source": [
        "#Question 2\n",
        "s[ : :-1]"
      ],
      "metadata": {
        "colab": {
          "base_uri": "https://localhost:8080/",
          "height": 36
        },
        "id": "vDitNpcRd_HW",
        "outputId": "6b462681-3e8d-4c2d-b14e-d9faef570818"
      },
      "execution_count": null,
      "outputs": [
        {
          "output_type": "execute_result",
          "data": {
            "text/plain": [
              "'noitcnuf sti dnA gnirts nohtyp gninraeL ma i dna ssalc gnimmargorp nohtyP tsriF ym si siht'"
            ],
            "application/vnd.google.colaboratory.intrinsic+json": {
              "type": "string"
            }
          },
          "metadata": {},
          "execution_count": 34
        }
      ]
    },
    {
      "cell_type": "code",
      "source": [
        "#Question 3(a)\n",
        "s1=s.upper()"
      ],
      "metadata": {
        "id": "Wq7OcZHEbcz2"
      },
      "execution_count": null,
      "outputs": []
    },
    {
      "cell_type": "code",
      "source": [
        "s1"
      ],
      "metadata": {
        "colab": {
          "base_uri": "https://localhost:8080/",
          "height": 36
        },
        "id": "0Yl3U5yjbhGm",
        "outputId": "bde33f21-1586-4e21-9f7b-cdddd22e4757"
      },
      "execution_count": null,
      "outputs": [
        {
          "output_type": "execute_result",
          "data": {
            "text/plain": [
              "'THIS IS MY FIRST PYTHON PROGRAMMING CLASS AND I AM LEARNING PYTHON STRING AND ITS FUNCTION'"
            ],
            "application/vnd.google.colaboratory.intrinsic+json": {
              "type": "string"
            }
          },
          "metadata": {},
          "execution_count": 40
        }
      ]
    },
    {
      "cell_type": "code",
      "source": [
        "#Question 3(b)\n",
        "s1.split(\" \")"
      ],
      "metadata": {
        "colab": {
          "base_uri": "https://localhost:8080/"
        },
        "id": "V1xlOJxdbjEu",
        "outputId": "ec4ce49e-9b5e-4c2a-f525-9d3f82fc89e5"
      },
      "execution_count": null,
      "outputs": [
        {
          "output_type": "execute_result",
          "data": {
            "text/plain": [
              "['THIS',\n",
              " 'IS',\n",
              " 'MY',\n",
              " 'FIRST',\n",
              " 'PYTHON',\n",
              " 'PROGRAMMING',\n",
              " 'CLASS',\n",
              " 'AND',\n",
              " 'I',\n",
              " 'AM',\n",
              " 'LEARNING',\n",
              " 'PYTHON',\n",
              " 'STRING',\n",
              " 'AND',\n",
              " 'ITS',\n",
              " 'FUNCTION']"
            ]
          },
          "metadata": {},
          "execution_count": 35
        }
      ]
    },
    {
      "cell_type": "code",
      "source": [
        "#Question 4\n",
        "s.lower()"
      ],
      "metadata": {
        "colab": {
          "base_uri": "https://localhost:8080/",
          "height": 36
        },
        "id": "WzS3SrCjboSE",
        "outputId": "005840d3-2adb-424b-9457-db38d04617cd"
      },
      "execution_count": null,
      "outputs": [
        {
          "output_type": "execute_result",
          "data": {
            "text/plain": [
              "'this is my first python programming class and i am learning python string and its function'"
            ],
            "application/vnd.google.colaboratory.intrinsic+json": {
              "type": "string"
            }
          },
          "metadata": {},
          "execution_count": 38
        }
      ]
    },
    {
      "cell_type": "code",
      "source": [
        "#Question 5\n",
        "s.capitalize()"
      ],
      "metadata": {
        "colab": {
          "base_uri": "https://localhost:8080/",
          "height": 36
        },
        "id": "dQ9UQ2OmbtdP",
        "outputId": "da4050e5-b633-4bbc-c920-b12093d5f2c3"
      },
      "execution_count": null,
      "outputs": [
        {
          "output_type": "execute_result",
          "data": {
            "text/plain": [
              "'This is my first python programming class and i am learning python string and its function'"
            ],
            "application/vnd.google.colaboratory.intrinsic+json": {
              "type": "string"
            }
          },
          "metadata": {},
          "execution_count": 39
        }
      ]
    },
    {
      "cell_type": "code",
      "source": [
        "#Question 6(a)\n",
        "s.isalnum()#isalnum is used to check whether a string consist of both alphabets and numbers combination"
      ],
      "metadata": {
        "colab": {
          "base_uri": "https://localhost:8080/"
        },
        "id": "yP6zYvF4bxFf",
        "outputId": "e0e0196e-17af-42da-fb93-770042d10f0b"
      },
      "execution_count": null,
      "outputs": [
        {
          "output_type": "execute_result",
          "data": {
            "text/plain": [
              "False"
            ]
          },
          "metadata": {},
          "execution_count": 36
        }
      ]
    },
    {
      "cell_type": "code",
      "source": [
        "#Question 6(b)\n",
        "s.isalpha()#isalpha is used to check whether a string consist only of alphabets"
      ],
      "metadata": {
        "colab": {
          "base_uri": "https://localhost:8080/"
        },
        "id": "2omULUrJb6ni",
        "outputId": "8d2004b7-1b35-439b-c2f0-d3b21b109a69"
      },
      "execution_count": null,
      "outputs": [
        {
          "output_type": "execute_result",
          "data": {
            "text/plain": [
              "False"
            ]
          },
          "metadata": {},
          "execution_count": 37
        }
      ]
    },
    {
      "cell_type": "code",
      "source": [
        "#Question 7\n",
        "s2=\"This\\tis\\tpython\\tclass\""
      ],
      "metadata": {
        "id": "dl1fw15rcVGR"
      },
      "execution_count": null,
      "outputs": []
    },
    {
      "cell_type": "code",
      "source": [
        "#Question 7\n",
        "s2.expandtabs()"
      ],
      "metadata": {
        "colab": {
          "base_uri": "https://localhost:8080/",
          "height": 36
        },
        "id": "a4XaSxiycni1",
        "outputId": "1a858d49-92ab-43fb-b50e-a7424972be4a"
      },
      "execution_count": null,
      "outputs": [
        {
          "output_type": "execute_result",
          "data": {
            "text/plain": [
              "'This    is      python  class'"
            ],
            "application/vnd.google.colaboratory.intrinsic+json": {
              "type": "string"
            }
          },
          "metadata": {},
          "execution_count": 43
        }
      ]
    },
    {
      "cell_type": "code",
      "source": [
        "#Question 8\n",
        "s3=\"     Python     \""
      ],
      "metadata": {
        "id": "-8pD76mOcsAV"
      },
      "execution_count": null,
      "outputs": []
    },
    {
      "cell_type": "code",
      "source": [
        "#Question 8.1\n",
        "s3.strip()"
      ],
      "metadata": {
        "colab": {
          "base_uri": "https://localhost:8080/",
          "height": 36
        },
        "id": "EH6-fdfSc0l7",
        "outputId": "c709243e-0ea4-468c-a738-9879bb81c5cd"
      },
      "execution_count": null,
      "outputs": [
        {
          "output_type": "execute_result",
          "data": {
            "text/plain": [
              "'Python'"
            ],
            "application/vnd.google.colaboratory.intrinsic+json": {
              "type": "string"
            }
          },
          "metadata": {},
          "execution_count": 48
        }
      ]
    },
    {
      "cell_type": "code",
      "source": [
        "#Question 8.2\n",
        "s3.lstrip()"
      ],
      "metadata": {
        "colab": {
          "base_uri": "https://localhost:8080/",
          "height": 36
        },
        "id": "0eJa8VSLc5wu",
        "outputId": "c9c6f0a7-62e3-432d-c5aa-749141a60739"
      },
      "execution_count": null,
      "outputs": [
        {
          "output_type": "execute_result",
          "data": {
            "text/plain": [
              "'Python     '"
            ],
            "application/vnd.google.colaboratory.intrinsic+json": {
              "type": "string"
            }
          },
          "metadata": {},
          "execution_count": 49
        }
      ]
    },
    {
      "cell_type": "code",
      "source": [
        "#Question 8.3\n",
        "s3.rstrip()"
      ],
      "metadata": {
        "colab": {
          "base_uri": "https://localhost:8080/",
          "height": 36
        },
        "id": "qAkL_Sy5c9ZG",
        "outputId": "44872b2d-7c9a-401a-e522-9476e8629391"
      },
      "execution_count": null,
      "outputs": [
        {
          "output_type": "execute_result",
          "data": {
            "text/plain": [
              "'     Python'"
            ],
            "application/vnd.google.colaboratory.intrinsic+json": {
              "type": "string"
            }
          },
          "metadata": {},
          "execution_count": 50
        }
      ]
    },
    {
      "cell_type": "code",
      "source": [
        "len(s)"
      ],
      "metadata": {
        "colab": {
          "base_uri": "https://localhost:8080/"
        },
        "id": "PK0hOVuydycQ",
        "outputId": "1e3a822c-d641-490f-d632-02195ef2175c"
      },
      "execution_count": null,
      "outputs": [
        {
          "output_type": "execute_result",
          "data": {
            "text/plain": [
              "90"
            ]
          },
          "metadata": {},
          "execution_count": 51
        }
      ]
    },
    {
      "cell_type": "code",
      "source": [
        "#Question 9\n",
        "s4=s.center(110)"
      ],
      "metadata": {
        "id": "43AOrG7Xd1g4"
      },
      "execution_count": null,
      "outputs": []
    },
    {
      "cell_type": "code",
      "source": [
        "s4"
      ],
      "metadata": {
        "colab": {
          "base_uri": "https://localhost:8080/",
          "height": 36
        },
        "id": "0_8p4bVueJpT",
        "outputId": "53a63087-61dd-4fef-aad3-84511d457d89"
      },
      "execution_count": null,
      "outputs": [
        {
          "output_type": "execute_result",
          "data": {
            "text/plain": [
              "'          this is my First Python programming class and i am Learning python string And its function          '"
            ],
            "application/vnd.google.colaboratory.intrinsic+json": {
              "type": "string"
            }
          },
          "metadata": {},
          "execution_count": 53
        }
      ]
    },
    {
      "cell_type": "code",
      "source": [
        "#Question 9\n",
        "s4=s.center(110,'$')"
      ],
      "metadata": {
        "id": "ga3hq4A7eMZL"
      },
      "execution_count": null,
      "outputs": []
    },
    {
      "cell_type": "code",
      "source": [
        "s4"
      ],
      "metadata": {
        "colab": {
          "base_uri": "https://localhost:8080/",
          "height": 36
        },
        "id": "rGmv0nt7eSaj",
        "outputId": "cd4d8eaf-b9d5-46ab-ec21-aedd3d8a6d28"
      },
      "execution_count": null,
      "outputs": [
        {
          "output_type": "execute_result",
          "data": {
            "text/plain": [
              "'$$$$$$$$$$this is my First Python programming class and i am Learning python string And its function$$$$$$$$$$'"
            ],
            "application/vnd.google.colaboratory.intrinsic+json": {
              "type": "string"
            }
          },
          "metadata": {},
          "execution_count": 55
        }
      ]
    },
    {
      "cell_type": "code",
      "source": [
        "#Question10\n",
        "#Compiler\n",
        "# It takes a program as a whole.\n",
        "#Faster execution due to pre-translation.\n",
        "#Examples: GCC, Clang, javac\n",
        "\n",
        "#Interpreter\n",
        "#An Interpreter takes single lines of a code.\n",
        "#Slower execution as translation happens on-the-fly.\n",
        "#Examples: Python, JavaScript (in browsers).\n"
      ],
      "metadata": {
        "id": "kbdiMRX_eWH4"
      },
      "execution_count": null,
      "outputs": []
    }
  ]
}