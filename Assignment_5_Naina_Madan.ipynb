{
  "nbformat": 4,
  "nbformat_minor": 0,
  "metadata": {
    "colab": {
      "provenance": []
    },
    "kernelspec": {
      "name": "python3",
      "display_name": "Python 3"
    },
    "language_info": {
      "name": "python"
    }
  },
  "cells": [
    {
      "cell_type": "code",
      "execution_count": null,
      "metadata": {
        "id": "hUp5c-qlzXSa"
      },
      "outputs": [],
      "source": [
        "def fun1():\n",
        "  for i in range(3):\n",
        "   for j in range(i+1):\n",
        "     print(\"raksha\",end=\" \")\n",
        "   print(\"\\n\")\n",
        "\n",
        "\n",
        "\n"
      ]
    },
    {
      "cell_type": "code",
      "source": [
        "fun1()"
      ],
      "metadata": {
        "colab": {
          "base_uri": "https://localhost:8080/"
        },
        "id": "FlseusCj09iD",
        "outputId": "83324156-6acd-411b-a06d-b93c6ab96df0"
      },
      "execution_count": null,
      "outputs": [
        {
          "output_type": "stream",
          "name": "stdout",
          "text": [
            "raksha \n",
            "\n",
            "raksha raksha \n",
            "\n",
            "raksha raksha raksha \n",
            "\n"
          ]
        }
      ]
    },
    {
      "cell_type": "code",
      "source": [
        "l=[[1,2,3,4],(2,3,4,5,6),(3,4,5,6,7),set([23,4,5,45,4,4,5,4,4,5]),{'k':'raksha',\"k2\":\"lnb\",3:6,7:8},[\"lnb\",\"datascience\"]]"
      ],
      "metadata": {
        "id": "8Nyq5Bax1QzD"
      },
      "execution_count": null,
      "outputs": []
    },
    {
      "cell_type": "code",
      "source": [
        "def fun2():\n",
        "  for i in l:\n",
        "   if type(i)==list:\n",
        "     print(i)"
      ],
      "metadata": {
        "id": "9FOU9a5c1WQI"
      },
      "execution_count": null,
      "outputs": []
    },
    {
      "cell_type": "code",
      "source": [
        "fun2()"
      ],
      "metadata": {
        "colab": {
          "base_uri": "https://localhost:8080/"
        },
        "id": "nkkGvPGi1e_n",
        "outputId": "ee991d6e-cac6-435b-fa4d-dcd3011f29ae"
      },
      "execution_count": null,
      "outputs": [
        {
          "output_type": "stream",
          "name": "stdout",
          "text": [
            "[1, 2, 3, 4]\n",
            "['lnb', 'datascience']\n"
          ]
        }
      ]
    },
    {
      "cell_type": "code",
      "source": [
        "def fun3():\n",
        "  for i in l:\n",
        "   if type(i)==dict:\n",
        "     print(i)"
      ],
      "metadata": {
        "id": "zK-QGef_1kcq"
      },
      "execution_count": null,
      "outputs": []
    },
    {
      "cell_type": "code",
      "source": [
        "fun3()"
      ],
      "metadata": {
        "colab": {
          "base_uri": "https://localhost:8080/"
        },
        "id": "3-g3_7-k1sPV",
        "outputId": "4e636b2c-db0e-491a-ff33-018667676da9"
      },
      "execution_count": null,
      "outputs": [
        {
          "output_type": "stream",
          "name": "stdout",
          "text": [
            "{'k': 'raksha', 'k2': 'lnb', 3: 6, 7: 8}\n"
          ]
        }
      ]
    },
    {
      "cell_type": "code",
      "source": [
        "def fun4():\n",
        "  for i in l[0:len(l)-1]:\n",
        "   if type(i)==list or type(i)==tuple or type(i)==set:\n",
        "     print(i)\n",
        "  for j in l[4]:\n",
        "   if type(j)==int:\n",
        "     print(j,l[4][j])"
      ],
      "metadata": {
        "id": "JW4N1DrB1ufU"
      },
      "execution_count": null,
      "outputs": []
    },
    {
      "cell_type": "code",
      "source": [
        "fun4()"
      ],
      "metadata": {
        "colab": {
          "base_uri": "https://localhost:8080/"
        },
        "id": "QELqmyJT2FAf",
        "outputId": "b6afa955-c299-49be-9d6b-14d69ae2e97d"
      },
      "execution_count": null,
      "outputs": [
        {
          "output_type": "stream",
          "name": "stdout",
          "text": [
            "[1, 2, 3, 4]\n",
            "(2, 3, 4, 5, 6)\n",
            "(3, 4, 5, 6, 7)\n",
            "{45, 4, 5, 23}\n",
            "3 6\n",
            "7 8\n"
          ]
        }
      ]
    },
    {
      "cell_type": "code",
      "source": [
        "def fun5():\n",
        "  for i in l:\n",
        "   if type(i)==dict:\n",
        "     for j in l[4]:\n",
        "       if j==\"k2\":\n",
        "         print(l[4][j])"
      ],
      "metadata": {
        "id": "NOV4hAPD2Gy5"
      },
      "execution_count": null,
      "outputs": []
    },
    {
      "cell_type": "code",
      "source": [
        "fun5()"
      ],
      "metadata": {
        "colab": {
          "base_uri": "https://localhost:8080/"
        },
        "id": "VBzqljgk4jqI",
        "outputId": "c3b81839-53fb-4ea8-d80d-fb1ff71505ae"
      },
      "execution_count": null,
      "outputs": [
        {
          "output_type": "stream",
          "name": "stdout",
          "text": [
            "lnb\n"
          ]
        }
      ]
    },
    {
      "cell_type": "code",
      "source": [
        "def fun6():\n",
        "  for i in l[4]:\n",
        "    print(i)"
      ],
      "metadata": {
        "id": "vqXA4zE-4pIp"
      },
      "execution_count": null,
      "outputs": []
    },
    {
      "cell_type": "code",
      "source": [
        "fun6()"
      ],
      "metadata": {
        "colab": {
          "base_uri": "https://localhost:8080/"
        },
        "id": "RmCJJxem5bX-",
        "outputId": "a7738fb3-2702-4444-9ebb-c1ba13c914e1"
      },
      "execution_count": null,
      "outputs": [
        {
          "output_type": "stream",
          "name": "stdout",
          "text": [
            "k\n",
            "k2\n",
            "3\n",
            "7\n"
          ]
        }
      ]
    },
    {
      "cell_type": "code",
      "source": [
        "def fun7():\n",
        "  for i in l[4]:\n",
        "    print(i,l[4][i])"
      ],
      "metadata": {
        "id": "EdeKo8-U5fzf"
      },
      "execution_count": null,
      "outputs": []
    },
    {
      "cell_type": "code",
      "source": [
        "fun7()"
      ],
      "metadata": {
        "colab": {
          "base_uri": "https://localhost:8080/"
        },
        "id": "35E7ZHYg5jWS",
        "outputId": "ef527d7b-7273-4600-c287-fa203aa57af1"
      },
      "execution_count": null,
      "outputs": [
        {
          "output_type": "stream",
          "name": "stdout",
          "text": [
            "k raksha\n",
            "k2 lnb\n",
            "3 6\n",
            "7 8\n"
          ]
        }
      ]
    },
    {
      "cell_type": "code",
      "source": [
        "def fun8():\n",
        "  a=0\n",
        "  while a<len(l):\n",
        "    if type(l[a])==list:\n",
        "      print(l[a])\n",
        "    a=a+1\n"
      ],
      "metadata": {
        "id": "uI-QPw9L5p_i"
      },
      "execution_count": null,
      "outputs": []
    },
    {
      "cell_type": "code",
      "source": [
        "fun8()"
      ],
      "metadata": {
        "colab": {
          "base_uri": "https://localhost:8080/"
        },
        "id": "Ficc1fEj7jYX",
        "outputId": "f228013c-3db7-49d3-da69-23d5cb6bcc61"
      },
      "execution_count": null,
      "outputs": [
        {
          "output_type": "stream",
          "name": "stdout",
          "text": [
            "[1, 2, 3, 4]\n",
            "['lnb', 'datascience']\n"
          ]
        }
      ]
    },
    {
      "cell_type": "code",
      "source": [
        "def fun9():\n",
        "  a=0\n",
        "  while a<len(l):\n",
        "    if type(l[a])==dict:\n",
        "      print(l[a])\n",
        "    a=a+1"
      ],
      "metadata": {
        "id": "ICRyfplX77d_"
      },
      "execution_count": null,
      "outputs": []
    },
    {
      "cell_type": "code",
      "source": [
        "fun9()"
      ],
      "metadata": {
        "colab": {
          "base_uri": "https://localhost:8080/"
        },
        "id": "sb_Ag9F28DQo",
        "outputId": "66d7e46b-acd1-4c3f-91d0-447ffcab06ca"
      },
      "execution_count": null,
      "outputs": [
        {
          "output_type": "stream",
          "name": "stdout",
          "text": [
            "{'k': 'raksha', 'k2': 'lnb', 3: 6, 7: 8}\n"
          ]
        }
      ]
    },
    {
      "cell_type": "code",
      "source": [
        "def fun10():\n",
        "  a=0\n",
        "  while a<len(l):\n",
        "   if type(l[a])==dict:\n",
        "     if l[a]['k2']=='lnb':\n",
        "       print(l[a]['k2'])\n",
        "   a=a+1"
      ],
      "metadata": {
        "id": "2Uzq1ZM_8LVu"
      },
      "execution_count": null,
      "outputs": []
    },
    {
      "cell_type": "code",
      "source": [
        "fun10()"
      ],
      "metadata": {
        "colab": {
          "base_uri": "https://localhost:8080/"
        },
        "id": "EwHud0US8SOZ",
        "outputId": "d596aa6b-881f-4def-c16b-f7472cfc730f"
      },
      "execution_count": null,
      "outputs": [
        {
          "output_type": "stream",
          "name": "stdout",
          "text": [
            "lnb\n"
          ]
        }
      ]
    },
    {
      "cell_type": "code",
      "source": [
        "def fun11():\n",
        "  a=0\n",
        "  while a<len(l):\n",
        "   if type(l[a])==dict:\n",
        "     print(l[a].values())\n",
        "   a=a+1"
      ],
      "metadata": {
        "id": "v-Hnzg5E8YjN"
      },
      "execution_count": null,
      "outputs": []
    },
    {
      "cell_type": "code",
      "source": [
        "fun11()"
      ],
      "metadata": {
        "colab": {
          "base_uri": "https://localhost:8080/"
        },
        "id": "H4L8s9TI8f9_",
        "outputId": "cecbaa37-efa5-47f9-8b42-3601d6b91f19"
      },
      "execution_count": null,
      "outputs": [
        {
          "output_type": "stream",
          "name": "stdout",
          "text": [
            "dict_values(['raksha', 'lnb', 6, 8])\n"
          ]
        }
      ]
    },
    {
      "cell_type": "code",
      "source": [
        "def fun12():\n",
        "  a=0\n",
        "  while a<len(l):\n",
        "   if type(l[a])==dict:\n",
        "     print(l[a].keys())\n",
        "   a=a+1"
      ],
      "metadata": {
        "id": "nof1bi1k8hd_"
      },
      "execution_count": null,
      "outputs": []
    },
    {
      "cell_type": "code",
      "source": [
        "fun12()"
      ],
      "metadata": {
        "colab": {
          "base_uri": "https://localhost:8080/"
        },
        "id": "bWyZBh978mMI",
        "outputId": "d2b36c48-f1f8-4f92-d372-2897ed19fc42"
      },
      "execution_count": null,
      "outputs": [
        {
          "output_type": "stream",
          "name": "stdout",
          "text": [
            "dict_keys(['k', 'k2', 3, 7])\n"
          ]
        }
      ]
    },
    {
      "cell_type": "code",
      "source": [
        "def fun13():\n",
        "  a=0\n",
        "  while a<len(l):\n",
        "   if type(l[a])==dict:\n",
        "     print(l[a].items())\n",
        "   a=a+1"
      ],
      "metadata": {
        "id": "3V5MWUKZ8nf4"
      },
      "execution_count": null,
      "outputs": []
    },
    {
      "cell_type": "code",
      "source": [
        "fun13()"
      ],
      "metadata": {
        "colab": {
          "base_uri": "https://localhost:8080/"
        },
        "id": "FbIwr5Dn8wYn",
        "outputId": "569e4ba9-ea60-4a7f-b73b-7f76d4045e0a"
      },
      "execution_count": null,
      "outputs": [
        {
          "output_type": "stream",
          "name": "stdout",
          "text": [
            "dict_items([('k', 'raksha'), ('k2', 'lnb'), (3, 6), (7, 8)])\n"
          ]
        }
      ]
    }
  ]
}