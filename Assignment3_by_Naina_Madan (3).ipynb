{
  "cells": [
    {
      "cell_type": "code",
      "source": [
        "for i in range(3):\n",
        "  for j in range(i+1):\n",
        "    print(\"raksha\",end=\" \")\n",
        "  print(\"\\n\")"
      ],
      "metadata": {
        "colab": {
          "base_uri": "https://localhost:8080/"
        },
        "id": "zoB7dbBL8vrJ",
        "outputId": "42e9339a-21a4-4f3a-ece1-3f32561790dc"
      },
      "execution_count": null,
      "outputs": [
        {
          "output_type": "stream",
          "name": "stdout",
          "text": [
            "raksha \n",
            "\n",
            "raksha raksha \n",
            "\n",
            "raksha raksha raksha \n",
            "\n"
          ]
        }
      ]
    },
    {
      "cell_type": "code",
      "execution_count": null,
      "metadata": {
        "id": "Zigm49opu84e"
      },
      "outputs": [],
      "source": [
        "l=[[1,2,3,4],(2,3,4,5,6),(3,4,5,6,7),set([23,4,5,45,4,4,5,4,4,5]),{'k':'raksha',\"k2\":\"lnb\",3:6,7:8},[\"lnb\",\"datascience\"]]\n"
      ]
    },
    {
      "cell_type": "code",
      "execution_count": null,
      "metadata": {
        "colab": {
          "base_uri": "https://localhost:8080/"
        },
        "id": "FSxACXtKvs6g",
        "outputId": "731e21f9-8ca0-4bff-fca4-6df5fbe01ab5"
      },
      "outputs": [
        {
          "name": "stdout",
          "output_type": "stream",
          "text": [
            "[1, 2, 3, 4]\n",
            "['lnb', 'datascience']\n"
          ]
        }
      ],
      "source": [
        "for i in l:\n",
        "  if type(i)==list:\n",
        "    print(i)"
      ]
    },
    {
      "cell_type": "code",
      "execution_count": null,
      "metadata": {
        "colab": {
          "base_uri": "https://localhost:8080/"
        },
        "id": "sNQUvQnGvtDe",
        "outputId": "e57a5234-1100-4020-935a-ff1a83d5edd6"
      },
      "outputs": [
        {
          "name": "stdout",
          "output_type": "stream",
          "text": [
            "{'k': 'raksha', 'k2': 'lnb', 3: 6, 7: 8}\n"
          ]
        }
      ],
      "source": [
        "for i in l:\n",
        "  if type(i)==dict:\n",
        "    print(i)"
      ]
    },
    {
      "cell_type": "code",
      "execution_count": null,
      "metadata": {
        "colab": {
          "base_uri": "https://localhost:8080/"
        },
        "id": "AQsOlcNNwKTZ",
        "outputId": "7f960fc0-124e-4722-d0f6-7722a526e6d3"
      },
      "outputs": [
        {
          "name": "stdout",
          "output_type": "stream",
          "text": [
            "(2, 3, 4, 5, 6)\n",
            "(3, 4, 5, 6, 7)\n"
          ]
        }
      ],
      "source": [
        "for i in l:\n",
        "  if type(i)==tuple:\n",
        "    print(i)"
      ]
    },
    {
      "cell_type": "code",
      "execution_count": null,
      "metadata": {
        "colab": {
          "base_uri": "https://localhost:8080/"
        },
        "id": "6episdWpwOC5",
        "outputId": "51ae2312-57cd-43d6-be20-4116ddb1e800"
      },
      "outputs": [
        {
          "output_type": "stream",
          "name": "stdout",
          "text": [
            "[1, 2, 3, 4]\n",
            "(2, 3, 4, 5, 6)\n",
            "(3, 4, 5, 6, 7)\n",
            "{45, 4, 5, 23}\n",
            "3 6\n",
            "7 8\n"
          ]
        }
      ],
      "source": [
        "for i in l[0:len(l)-1]:\n",
        "  if type(i)==list or type(i)==tuple or type(i)==set:\n",
        "    print(i)\n",
        "for j in l[4]:\n",
        "  if type(j)==int:\n",
        "    print(j,l[4][j])\n"
      ]
    },
    {
      "cell_type": "code",
      "execution_count": null,
      "metadata": {
        "colab": {
          "base_uri": "https://localhost:8080/"
        },
        "id": "dTI1pOSn0hNL",
        "outputId": "09b89f24-2099-4f33-994a-7ce4dfee9242"
      },
      "outputs": [
        {
          "output_type": "stream",
          "name": "stdout",
          "text": [
            "1\n",
            "3\n",
            "3\n",
            "5\n",
            "3\n",
            "5\n",
            "7\n",
            "45\n",
            "5\n",
            "23\n",
            "3\n",
            "7\n"
          ]
        }
      ],
      "source": [
        "for i in l:\n",
        "  if type(i)==list or type(i)==tuple or type(i)==set:\n",
        "    for j in i:\n",
        "      if type(j)==int:\n",
        "        if j%2!=0:\n",
        "          print(j)\n",
        "  if type(i)==dict:\n",
        "    for p in l[4]:\n",
        "      if type(p)==int:\n",
        "        if p%2!=0:\n",
        "          print(p)"
      ]
    },
    {
      "cell_type": "code",
      "execution_count": null,
      "metadata": {
        "colab": {
          "base_uri": "https://localhost:8080/"
        },
        "id": "_04A9vaX33Y2",
        "outputId": "3ad91371-d5b2-4b03-add4-c778dfb0707b"
      },
      "outputs": [
        {
          "output_type": "stream",
          "name": "stdout",
          "text": [
            "lnb\n"
          ]
        }
      ],
      "source": [
        "for i in l:\n",
        "  if type(i)==dict:\n",
        "    for j in l[4]:\n",
        "      if j==\"k2\":\n",
        "        print(l[4][j])\n"
      ]
    },
    {
      "cell_type": "code",
      "execution_count": null,
      "metadata": {
        "id": "5resrTwY4GPK",
        "colab": {
          "base_uri": "https://localhost:8080/"
        },
        "outputId": "b23cf5e1-227e-47f2-af1c-93a0577da661"
      },
      "outputs": [
        {
          "output_type": "stream",
          "name": "stdout",
          "text": [
            "k\n",
            "k2\n",
            "3\n",
            "7\n"
          ]
        }
      ],
      "source": [
        "for i in l[4]:\n",
        "  print(i)"
      ]
    },
    {
      "cell_type": "code",
      "source": [
        "for i in l:\n",
        "  if type(i)==list:\n",
        "    for j in i:\n",
        "      if type(j)==str:\n",
        "        print(j)\n",
        "  if type(i)==dict:\n",
        "    for p in l[4]:\n",
        "      if type(p)==str:\n",
        "        print(p)\n",
        "      if type(l[4][p])==str:\n",
        "        print(l[4][p])"
      ],
      "metadata": {
        "colab": {
          "base_uri": "https://localhost:8080/"
        },
        "id": "o9JZBTSr-yKe",
        "outputId": "1c6ccbbb-9578-48ad-8ea8-7e59be787f82"
      },
      "execution_count": null,
      "outputs": [
        {
          "output_type": "stream",
          "name": "stdout",
          "text": [
            "k\n",
            "raksha\n",
            "k2\n",
            "lnb\n",
            "lnb\n",
            "datascience\n"
          ]
        }
      ]
    },
    {
      "cell_type": "code",
      "source": [
        "l1=l[0]\n",
        "l2=l[5]\n",
        "for i in l2:\n",
        "  l1.append(i)\n",
        "print(l1)\n"
      ],
      "metadata": {
        "colab": {
          "base_uri": "https://localhost:8080/"
        },
        "id": "3UW0vAVp_NNX",
        "outputId": "9db2d171-2248-4338-9e79-e319585957da"
      },
      "execution_count": null,
      "outputs": [
        {
          "output_type": "stream",
          "name": "stdout",
          "text": [
            "[1, 2, 3, 4, 'lnb', 'datascience']\n"
          ]
        }
      ]
    },
    {
      "cell_type": "code",
      "source": [
        "for i in l[4]:\n",
        "  print(i,l[4][i])"
      ],
      "metadata": {
        "colab": {
          "base_uri": "https://localhost:8080/"
        },
        "id": "fiM1AsQ3_VL-",
        "outputId": "a00373c9-0c68-48ec-900d-7264b5ee7a51"
      },
      "execution_count": null,
      "outputs": [
        {
          "output_type": "stream",
          "name": "stdout",
          "text": [
            "k raksha\n",
            "k2 lnb\n",
            "3 6\n",
            "7 8\n"
          ]
        }
      ]
    }
  ],
  "metadata": {
    "colab": {
      "provenance": []
    },
    "kernelspec": {
      "display_name": "Python 3",
      "name": "python3"
    },
    "language_info": {
      "name": "python"
    }
  },
  "nbformat": 4,
  "nbformat_minor": 0
}