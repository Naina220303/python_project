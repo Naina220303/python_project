{
  "nbformat": 4,
  "nbformat_minor": 0,
  "metadata": {
    "colab": {
      "provenance": []
    },
    "kernelspec": {
      "name": "python3",
      "display_name": "Python 3"
    },
    "language_info": {
      "name": "python"
    }
  },
  "cells": [
    {
      "cell_type": "code",
      "source": [
        "#Assignment by Naina Madan"
      ],
      "metadata": {
        "id": "Clz0cJKw_eZ7"
      },
      "execution_count": null,
      "outputs": []
    },
    {
      "cell_type": "code",
      "execution_count": null,
      "metadata": {
        "id": "91ilxO_pd1c-"
      },
      "outputs": [],
      "source": [
        "l=[3,4,5,6,7,[23,456,67,8,78],[345,56,87,9,89,9],(234,657,6),{\"key1\":\"raksha\",234:['a','b']}]"
      ]
    },
    {
      "cell_type": "code",
      "source": [
        "l"
      ],
      "metadata": {
        "colab": {
          "base_uri": "https://localhost:8080/"
        },
        "id": "FKgfrcrPegob",
        "outputId": "7a1369f9-586e-4042-c733-a708494ef615"
      },
      "execution_count": null,
      "outputs": [
        {
          "output_type": "execute_result",
          "data": {
            "text/plain": [
              "[3,\n",
              " 4,\n",
              " 5,\n",
              " 6,\n",
              " 7,\n",
              " [23, 456, 67, 8, 78],\n",
              " [345, 56, 87, 9, 89, 9],\n",
              " (234, 657, 6),\n",
              " {'key1': 'raksha', 234: ['a', 'b']}]"
            ]
          },
          "metadata": {},
          "execution_count": 3
        }
      ]
    },
    {
      "cell_type": "code",
      "source": [
        "l.reverse()"
      ],
      "metadata": {
        "id": "9dpQBy18epH6"
      },
      "execution_count": null,
      "outputs": []
    },
    {
      "cell_type": "code",
      "source": [
        "l"
      ],
      "metadata": {
        "id": "foxBLpPdezJp",
        "outputId": "a6b2f3e5-41b7-4b20-9b86-111aac9faf36",
        "colab": {
          "base_uri": "https://localhost:8080/"
        }
      },
      "execution_count": null,
      "outputs": [
        {
          "output_type": "execute_result",
          "data": {
            "text/plain": [
              "[{'key1': 'raksha', 234: ['a', 'b']},\n",
              " (234, 657, 6),\n",
              " [345, 56, 87, 9, 89, 9],\n",
              " [23, 456, 67, 8, 78],\n",
              " 7,\n",
              " 6,\n",
              " 5,\n",
              " 4,\n",
              " 3]"
            ]
          },
          "metadata": {},
          "execution_count": 5
        }
      ]
    },
    {
      "cell_type": "code",
      "source": [
        "l[7][0]"
      ],
      "metadata": {
        "id": "ZbIJl-2Ie1sr",
        "colab": {
          "base_uri": "https://localhost:8080/"
        },
        "outputId": "678762f3-5c0a-4f68-eadf-e2dbd0615d88"
      },
      "execution_count": null,
      "outputs": [
        {
          "output_type": "execute_result",
          "data": {
            "text/plain": [
              "234"
            ]
          },
          "metadata": {},
          "execution_count": 7
        }
      ]
    },
    {
      "cell_type": "code",
      "source": [
        "l[5][1]"
      ],
      "metadata": {
        "colab": {
          "base_uri": "https://localhost:8080/"
        },
        "id": "yPnrClrjjBCJ",
        "outputId": "f48529c6-b3be-4fd8-ec77-9ffa344854a0"
      },
      "execution_count": null,
      "outputs": [
        {
          "output_type": "execute_result",
          "data": {
            "text/plain": [
              "456"
            ]
          },
          "metadata": {},
          "execution_count": 8
        }
      ]
    },
    {
      "cell_type": "code",
      "source": [
        "l[5]"
      ],
      "metadata": {
        "colab": {
          "base_uri": "https://localhost:8080/"
        },
        "id": "1oev_juHjH08",
        "outputId": "02eec3a3-bb41-42d7-abb0-97cc5ee64de4"
      },
      "execution_count": null,
      "outputs": [
        {
          "output_type": "execute_result",
          "data": {
            "text/plain": [
              "[23, 456, 67, 8, 78]"
            ]
          },
          "metadata": {},
          "execution_count": 9
        }
      ]
    },
    {
      "cell_type": "code",
      "source": [
        "l[6]"
      ],
      "metadata": {
        "colab": {
          "base_uri": "https://localhost:8080/"
        },
        "id": "wke453XOjo4T",
        "outputId": "615f146c-33d6-4bbf-b483-d521259b48eb"
      },
      "execution_count": null,
      "outputs": [
        {
          "output_type": "execute_result",
          "data": {
            "text/plain": [
              "[345, 56, 87, 9, 89, 9]"
            ]
          },
          "metadata": {},
          "execution_count": 10
        }
      ]
    },
    {
      "cell_type": "code",
      "source": [
        "l[8][234]"
      ],
      "metadata": {
        "colab": {
          "base_uri": "https://localhost:8080/"
        },
        "id": "KVOzWpu5jvEy",
        "outputId": "fa4f22db-eb24-4d04-de60-25d7dd618281"
      },
      "execution_count": null,
      "outputs": [
        {
          "output_type": "execute_result",
          "data": {
            "text/plain": [
              "['a', 'b']"
            ]
          },
          "metadata": {},
          "execution_count": 11
        }
      ]
    },
    {
      "cell_type": "code",
      "source": [
        "l[8][\"key1\"]"
      ],
      "metadata": {
        "colab": {
          "base_uri": "https://localhost:8080/",
          "height": 36
        },
        "id": "74hQSm6NjzJv",
        "outputId": "86943299-467d-4720-a564-3f3fff623d7f"
      },
      "execution_count": null,
      "outputs": [
        {
          "output_type": "execute_result",
          "data": {
            "text/plain": [
              "'raksha'"
            ],
            "application/vnd.google.colaboratory.intrinsic+json": {
              "type": "string"
            }
          },
          "metadata": {},
          "execution_count": 12
        }
      ]
    },
    {
      "cell_type": "code",
      "source": [
        "l[8].values()"
      ],
      "metadata": {
        "colab": {
          "base_uri": "https://localhost:8080/"
        },
        "id": "gIykF_Bzj6KY",
        "outputId": "b32bf418-728c-4079-e8eb-0ca59a76d51f"
      },
      "execution_count": null,
      "outputs": [
        {
          "output_type": "execute_result",
          "data": {
            "text/plain": [
              "dict_values(['raksha', ['a', 'b']])"
            ]
          },
          "metadata": {},
          "execution_count": 13
        }
      ]
    },
    {
      "cell_type": "code",
      "source": [
        "#if, else, elif are the keywords that helps to write code involved in conditional statement"
      ],
      "metadata": {
        "id": "XQ38mFj-kDJF"
      },
      "execution_count": null,
      "outputs": []
    },
    {
      "cell_type": "code",
      "source": [
        "#if condition:\n",
        " #body  of if statement"
      ],
      "metadata": {
        "id": "xo7CA2I_kMu7"
      },
      "execution_count": null,
      "outputs": []
    },
    {
      "cell_type": "code",
      "source": [
        "# there is no limit of statements under an if block"
      ],
      "metadata": {
        "id": "RZn_e7y9kg5v"
      },
      "execution_count": null,
      "outputs": []
    },
    {
      "cell_type": "code",
      "source": [
        "p=int(input(\"Enter age of person\"))\n",
        "if p<18:\n",
        "  print(\"not eligible to vote\")\n",
        "else:\n",
        "  print(\"eligible to vote\")"
      ],
      "metadata": {
        "colab": {
          "base_uri": "https://localhost:8080/"
        },
        "id": "kVRhF8-mk4im",
        "outputId": "8f7e05f6-2c5b-4ae4-858f-1edb3e3ea79b"
      },
      "execution_count": null,
      "outputs": [
        {
          "output_type": "stream",
          "name": "stdout",
          "text": [
            "Enter age of person19\n",
            "eligible to vote\n"
          ]
        }
      ]
    },
    {
      "cell_type": "code",
      "source": [
        "unit=int(input(\"Enter units\"))\n",
        "price=0\n",
        "if unit>=100:\n",
        "  price=price+0\n",
        "  unit=unit-100\n",
        "  if unit>0 and unit<100:\n",
        "   price=price+unit*5\n",
        "  if unit>=100:\n",
        "    price=price+500\n",
        "    unit=unit-100\n",
        "    if unit>=0:\n",
        "      price=price+(unit*10)\n",
        "print(price)"
      ],
      "metadata": {
        "colab": {
          "base_uri": "https://localhost:8080/"
        },
        "id": "tpSqCjdElObg",
        "outputId": "105ffa13-7a0a-4a19-b371-ddb5e9e07cfe"
      },
      "execution_count": null,
      "outputs": [
        {
          "output_type": "stream",
          "name": "stdout",
          "text": [
            "Enter units140\n",
            "200\n"
          ]
        }
      ]
    }
  ]
}