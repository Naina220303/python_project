{
  "nbformat": 4,
  "nbformat_minor": 0,
  "metadata": {
    "colab": {
      "provenance": []
    },
    "kernelspec": {
      "name": "python3",
      "display_name": "Python 3"
    },
    "language_info": {
      "name": "python"
    }
  },
  "cells": [
    {
      "cell_type": "code",
      "source": [
        "# When we know the number of iterations that must occur in a loop execution, we use the for loop. On the other hand, if we do not know how many iterations must occur in a loop, we use a while loop.\n",
        "# For loop is used to iterate over a sequence of items. While loop is used to repeatedly execute a block of statements while a condition is true."
      ],
      "metadata": {
        "id": "WBjGXX201ilM"
      },
      "execution_count": null,
      "outputs": []
    },
    {
      "cell_type": "code",
      "execution_count": null,
      "metadata": {
        "id": "-UJjzyH3nUHA"
      },
      "outputs": [],
      "source": [
        "l=[[1,2,3,4],(2,3,4,5,6),(3,4,5,6,7),set([23,4,5,45,4,4,5,4,4,5]),{'k':'raksha',\"k2\":\"lnb\",3:6,7:8},[\"lnb\",\"datascience\"]]"
      ]
    },
    {
      "cell_type": "code",
      "source": [
        "a=0\n",
        "while a<len(l):\n",
        "  if type(l[a])==list:\n",
        "    print(l[a])\n",
        "  a=a+1"
      ],
      "metadata": {
        "colab": {
          "base_uri": "https://localhost:8080/"
        },
        "id": "V8YHtvg_oT9H",
        "outputId": "894ce0a1-c7e7-4c05-e450-f61104b3abe5"
      },
      "execution_count": null,
      "outputs": [
        {
          "output_type": "stream",
          "name": "stdout",
          "text": [
            "[1, 2, 3, 4]\n",
            "['lnb', 'datascience']\n"
          ]
        }
      ]
    },
    {
      "cell_type": "code",
      "source": [
        "a=0\n",
        "while a<len(l):\n",
        "  if type(l[a])==dict:\n",
        "    print(l[a])\n",
        "  a=a+1"
      ],
      "metadata": {
        "colab": {
          "base_uri": "https://localhost:8080/"
        },
        "id": "TNFly9nbo2MM",
        "outputId": "10c96688-4c1d-4970-e91f-ad0707ab1f73"
      },
      "execution_count": null,
      "outputs": [
        {
          "output_type": "stream",
          "name": "stdout",
          "text": [
            "{'k': 'raksha', 'k2': 'lnb', 3: 6, 7: 8}\n"
          ]
        }
      ]
    },
    {
      "cell_type": "code",
      "source": [
        "a=0\n",
        "while a<len(l):\n",
        "  if type(l[a])==tuple:\n",
        "    print(l[a])\n",
        "  a=a+1"
      ],
      "metadata": {
        "colab": {
          "base_uri": "https://localhost:8080/"
        },
        "id": "0V7_bne7o64Z",
        "outputId": "0eff4f5f-598a-48ad-f79e-af382da9d6db"
      },
      "execution_count": null,
      "outputs": [
        {
          "output_type": "stream",
          "name": "stdout",
          "text": [
            "(2, 3, 4, 5, 6)\n",
            "(3, 4, 5, 6, 7)\n"
          ]
        }
      ]
    },
    {
      "cell_type": "code",
      "source": [
        "a=0\n",
        "while a<len(l):\n",
        "  if type(l[a])==dict:\n",
        "    if l[a]['k2']=='lnb':\n",
        "      print(l[a]['k2'])\n",
        "  a=a+1"
      ],
      "metadata": {
        "id": "8Pn0P-Ouo917",
        "colab": {
          "base_uri": "https://localhost:8080/"
        },
        "outputId": "1ba17cc9-42b8-47b8-bdae-54352d78e5e4"
      },
      "execution_count": null,
      "outputs": [
        {
          "output_type": "stream",
          "name": "stdout",
          "text": [
            "lnb\n"
          ]
        }
      ]
    },
    {
      "cell_type": "code",
      "source": [
        "a=0\n",
        "while a<len(l):\n",
        "  if type(l[a])==dict:\n",
        "    print(l[a].keys())\n",
        "  a=a+1"
      ],
      "metadata": {
        "colab": {
          "base_uri": "https://localhost:8080/"
        },
        "id": "GInU-1URrnND",
        "outputId": "5ce9e99a-c579-424a-cf44-60c53bfbc409"
      },
      "execution_count": null,
      "outputs": [
        {
          "output_type": "stream",
          "name": "stdout",
          "text": [
            "dict_keys(['k', 'k2', 3, 7])\n"
          ]
        }
      ]
    },
    {
      "cell_type": "code",
      "source": [
        "a=0\n",
        "while a<len(l):\n",
        "  if type(l[a])==dict:\n",
        "    print(l[a].values())\n",
        "  a=a+1"
      ],
      "metadata": {
        "colab": {
          "base_uri": "https://localhost:8080/"
        },
        "id": "lwAmwHMMtoFG",
        "outputId": "1322874e-8a15-4eab-9554-1d62e60ca732"
      },
      "execution_count": null,
      "outputs": [
        {
          "output_type": "stream",
          "name": "stdout",
          "text": [
            "dict_values(['raksha', 'lnb', 6, 8])\n"
          ]
        }
      ]
    },
    {
      "cell_type": "code",
      "source": [
        "a=0\n",
        "while a<len(l):\n",
        "  if type(l[a])==dict:\n",
        "    print(l[a].items())\n",
        "  a=a+1"
      ],
      "metadata": {
        "colab": {
          "base_uri": "https://localhost:8080/"
        },
        "id": "GI8iDOMktvoi",
        "outputId": "e362d884-ea46-493d-f247-d2cda5a11b0d"
      },
      "execution_count": null,
      "outputs": [
        {
          "output_type": "stream",
          "name": "stdout",
          "text": [
            "dict_items([('k', 'raksha'), ('k2', 'lnb'), (3, 6), (7, 8)])\n"
          ]
        }
      ]
    }
  ]
}